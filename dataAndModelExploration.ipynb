{
 "cells": [
  {
   "cell_type": "markdown",
   "metadata": {},
   "source": [
    "# Aissignment : Semantic Analysis\n",
    "### Siddharth Shakya"
   ]
  },
  {
   "cell_type": "markdown",
   "metadata": {},
   "source": [
    "# Data Exploration"
   ]
  },
  {
   "cell_type": "code",
   "execution_count": 1,
   "metadata": {},
   "outputs": [],
   "source": [
    "import pandas as pd\n",
    "import os\n",
    "from nltk.corpus import stopwords\n",
    "from IPython.display import display\n",
    "\n",
    "from sklearn.feature_extraction.text import TfidfVectorizer,TfidfTransformer,CountVectorizer\n",
    "from sklearn.model_selection import train_test_split\n",
    "from sklearn.metrics import accuracy_score,f1_score,confusion_matrix,classification_report\n",
    "import pickle"
   ]
  },
  {
   "cell_type": "markdown",
   "metadata": {},
   "source": [
    "# 1 Basic preprocessing \n",
    "##   Remove stop words, special characters, digits and add labels"
   ]
  },
  {
   "cell_type": "markdown",
   "metadata": {},
   "source": [
    "#### Before doing this I have manually separated few paragraphs that were not separated by new line and randomly split paragraphs that were too large than usual just by visual inspection"
   ]
  },
  {
   "cell_type": "code",
   "execution_count": 3,
   "metadata": {},
   "outputs": [],
   "source": [
    "stopList = list(stopwords.words('english')) # Stopwords\n",
    "spclCharList  = ['#','^','!','(',')','`','~','%','/','\\\\' ,'{','}',']','[','.',',',':',';','\"','-','°','@']\n",
    "\n",
    "fruit_file = os.path.join(os.getcwd(),\"TrainData\\\\apple-fruit.txt\")\n",
    "company_file = os.path.join(os.getcwd(),\"TrainData\\\\apple-computers.txt\")\n",
    "trainDataText = open(os.path.join(os.getcwd(),\"TrainData\\\\TrainData.txt\"),'w')\n",
    "\n",
    "with open(fruit_file,'r',encoding=\"utf-8\") as input:\n",
    "    paragraphs = input.read().split(\"\\n\\n\")\n",
    "\n",
    "datum =''\n",
    "for para in paragraphs:\n",
    "    for ch in spclCharList:\n",
    "        para = para.replace(ch,'')\n",
    "    para = ''.join([i for i in para if not i.isdigit()])\n",
    "    para = para.lower().strip().split()\n",
    "    para = list(filter(lambda x: x != '', para))\n",
    "    para = [word for word in para if word not in stopList]\n",
    "    para = ' '.join(str(w) for w in para)\n",
    "    datum += para +'\\t'+'fruit'+'\\n'\n",
    "\n",
    "with open(company_file,'r',encoding=\"utf-8\") as input:\n",
    "    paragraphs = input.read().split(\"\\n\\n\")\n",
    "\n",
    "for para in paragraphs:\n",
    "    for ch in spclCharList:\n",
    "        para = para.replace(ch,'')\n",
    "    para = ''.join([i for i in para if not i.isdigit()])\n",
    "    para = para.lower().strip().split()\n",
    "    para = list(filter(lambda x: x != '', para))\n",
    "    para = [word for word in para if word not in stopList]\n",
    "    para = ' '.join(str(w) for w in para)\n",
    "    datum += para +'\\t'+'company'+'\\n'\n",
    "\n",
    "trainDataText.write(datum)\n",
    "trainDataText.close()"
   ]
  },
  {
   "cell_type": "code",
   "execution_count": 4,
   "metadata": {},
   "outputs": [],
   "source": [
    "paragraphs = []\n",
    "label = []\n",
    "trainDataText = open(os.path.join(os.getcwd(),\"TrainData\\\\TrainData.txt\"),'r')"
   ]
  },
  {
   "cell_type": "code",
   "execution_count": 5,
   "metadata": {
    "scrolled": true
   },
   "outputs": [],
   "source": [
    "# Add lables 1-0\n",
    "df = pd.DataFrame(columns=['paragraph', 'label'])\n",
    "for line in trainDataText.readlines():\n",
    "    line = line.rstrip('\\n').split('\\t')\n",
    "    paragraphs.append(line[0])\n",
    "    l = 1 if line[1] == 'company' else 0\n",
    "    label.append(1 if line[1] == 'company' else 0)\n",
    "    df = df.append({'paragraph':line[0],'label' :l},ignore_index=True)\n",
    "#df"
   ]
  },
  {
   "cell_type": "markdown",
   "metadata": {},
   "source": [
    "## lemmatize"
   ]
  },
  {
   "cell_type": "code",
   "execution_count": 6,
   "metadata": {},
   "outputs": [],
   "source": [
    "from nltk.stem.wordnet import WordNetLemmatizer\n",
    "lmtzr = WordNetLemmatizer()"
   ]
  },
  {
   "cell_type": "code",
   "execution_count": 7,
   "metadata": {},
   "outputs": [
    {
     "name": "stdout",
     "output_type": "stream",
     "text": [
      "0    article fruit technology company see apple inc...\n",
      "1    typical apple scientific classification kingdo...\n",
      "2    apple pomaceous fruit apple tree specie malus ...\n",
      "3    known cultivar apple resulting range desired c...\n",
      "4    million tonne apple grown worldwide china prod...\n",
      "5    botanical information blossom fruit leaf apple...\n",
      "Name: paragraph, dtype: object\n"
     ]
    }
   ],
   "source": [
    "print(df['paragraph'][:6].apply(lambda x: \" \".join([lmtzr.lemmatize(word) for word in x.split()])))\n"
   ]
  },
  {
   "cell_type": "code",
   "execution_count": 8,
   "metadata": {},
   "outputs": [],
   "source": [
    "df2 = pd.DataFrame(columns=['lmtzPara', 'label'])\n",
    "df2['lmtzPara'] = df['paragraph'].apply(lambda x: \" \".join([lmtzr.lemmatize(word) for word in x.split()]))\n",
    "df2['label'] = df['label']"
   ]
  },
  {
   "cell_type": "markdown",
   "metadata": {},
   "source": [
    "## Summarize \n",
    "### Frequnet words"
   ]
  },
  {
   "cell_type": "code",
   "execution_count": 9,
   "metadata": {},
   "outputs": [
    {
     "data": {
      "text/plain": [
       "count                                                   211\n",
       "unique                                                  211\n",
       "top       macintosh initially sold well followup sales s...\n",
       "freq                                                      1\n",
       "Name: paragraph, dtype: object"
      ]
     },
     "execution_count": 9,
     "metadata": {},
     "output_type": "execute_result"
    }
   ],
   "source": [
    "df['paragraph'].describe()"
   ]
  },
  {
   "cell_type": "code",
   "execution_count": 10,
   "metadata": {},
   "outputs": [
    {
     "data": {
      "text/plain": [
       "count                                                   211\n",
       "unique                                                  211\n",
       "top       success powerbook product brought increasing r...\n",
       "freq                                                      1\n",
       "Name: lmtzPara, dtype: object"
      ]
     },
     "execution_count": 10,
     "metadata": {},
     "output_type": "execute_result"
    }
   ],
   "source": [
    "df2['lmtzPara'].describe()"
   ]
  },
  {
   "cell_type": "code",
   "execution_count": 11,
   "metadata": {},
   "outputs": [
    {
     "data": {
      "text/html": [
       "<div>\n",
       "<style scoped>\n",
       "    .dataframe tbody tr th:only-of-type {\n",
       "        vertical-align: middle;\n",
       "    }\n",
       "\n",
       "    .dataframe tbody tr th {\n",
       "        vertical-align: top;\n",
       "    }\n",
       "\n",
       "    .dataframe thead tr th {\n",
       "        text-align: left;\n",
       "    }\n",
       "\n",
       "    .dataframe thead tr:last-of-type th {\n",
       "        text-align: right;\n",
       "    }\n",
       "</style>\n",
       "<table border=\"1\" class=\"dataframe\">\n",
       "  <thead>\n",
       "    <tr>\n",
       "      <th></th>\n",
       "      <th colspan=\"4\" halign=\"left\">lmtzPara</th>\n",
       "    </tr>\n",
       "    <tr>\n",
       "      <th></th>\n",
       "      <th>count</th>\n",
       "      <th>unique</th>\n",
       "      <th>top</th>\n",
       "      <th>freq</th>\n",
       "    </tr>\n",
       "    <tr>\n",
       "      <th>label</th>\n",
       "      <th></th>\n",
       "      <th></th>\n",
       "      <th></th>\n",
       "      <th></th>\n",
       "    </tr>\n",
       "  </thead>\n",
       "  <tbody>\n",
       "    <tr>\n",
       "      <th>0</th>\n",
       "      <td>81</td>\n",
       "      <td>81</td>\n",
       "      <td>apple scab apple scab cause leaf develop olive...</td>\n",
       "      <td>1</td>\n",
       "    </tr>\n",
       "    <tr>\n",
       "      <th>1</th>\n",
       "      <td>130</td>\n",
       "      <td>130</td>\n",
       "      <td>following success macintosh lc apple introduce...</td>\n",
       "      <td>1</td>\n",
       "    </tr>\n",
       "  </tbody>\n",
       "</table>\n",
       "</div>"
      ],
      "text/plain": [
       "      lmtzPara                                                               \n",
       "         count unique                                                top freq\n",
       "label                                                                        \n",
       "0           81     81  apple scab apple scab cause leaf develop olive...    1\n",
       "1          130    130  following success macintosh lc apple introduce...    1"
      ]
     },
     "execution_count": 11,
     "metadata": {},
     "output_type": "execute_result"
    }
   ],
   "source": [
    "df2.groupby('label').describe()\n",
    "#df2"
   ]
  },
  {
   "cell_type": "code",
   "execution_count": 12,
   "metadata": {
    "scrolled": true
   },
   "outputs": [
    {
     "data": {
      "text/html": [
       "<div>\n",
       "<style scoped>\n",
       "    .dataframe tbody tr th:only-of-type {\n",
       "        vertical-align: middle;\n",
       "    }\n",
       "\n",
       "    .dataframe tbody tr th {\n",
       "        vertical-align: top;\n",
       "    }\n",
       "\n",
       "    .dataframe thead tr th {\n",
       "        text-align: left;\n",
       "    }\n",
       "\n",
       "    .dataframe thead tr:last-of-type th {\n",
       "        text-align: right;\n",
       "    }\n",
       "</style>\n",
       "<table border=\"1\" class=\"dataframe\">\n",
       "  <thead>\n",
       "    <tr>\n",
       "      <th></th>\n",
       "      <th colspan=\"4\" halign=\"left\">paragraph</th>\n",
       "    </tr>\n",
       "    <tr>\n",
       "      <th></th>\n",
       "      <th>count</th>\n",
       "      <th>unique</th>\n",
       "      <th>top</th>\n",
       "      <th>freq</th>\n",
       "    </tr>\n",
       "    <tr>\n",
       "      <th>label</th>\n",
       "      <th></th>\n",
       "      <th></th>\n",
       "      <th></th>\n",
       "      <th></th>\n",
       "    </tr>\n",
       "  </thead>\n",
       "  <tbody>\n",
       "    <tr>\n",
       "      <th>0</th>\n",
       "      <td>81</td>\n",
       "      <td>81</td>\n",
       "      <td>among serious disease problems fireblight bact...</td>\n",
       "      <td>1</td>\n",
       "    </tr>\n",
       "    <tr>\n",
       "      <th>1</th>\n",
       "      <td>130</td>\n",
       "      <td>130</td>\n",
       "      <td>october apple india executives unveiled plan e...</td>\n",
       "      <td>1</td>\n",
       "    </tr>\n",
       "  </tbody>\n",
       "</table>\n",
       "</div>"
      ],
      "text/plain": [
       "      paragraph                                                               \n",
       "          count unique                                                top freq\n",
       "label                                                                         \n",
       "0            81     81  among serious disease problems fireblight bact...    1\n",
       "1           130    130  october apple india executives unveiled plan e...    1"
      ]
     },
     "execution_count": 12,
     "metadata": {},
     "output_type": "execute_result"
    }
   ],
   "source": [
    "df.groupby('label').describe()"
   ]
  },
  {
   "cell_type": "markdown",
   "metadata": {},
   "source": [
    "## Top K words with average Tf-IDF scores for both class and overall data"
   ]
  },
  {
   "cell_type": "code",
   "execution_count": 13,
   "metadata": {},
   "outputs": [],
   "source": [
    "ngram = (1,2)\n",
    "maxf = 800"
   ]
  },
  {
   "cell_type": "markdown",
   "metadata": {},
   "source": [
    "##### vectorize"
   ]
  },
  {
   "cell_type": "code",
   "execution_count": 14,
   "metadata": {},
   "outputs": [],
   "source": [
    "import numpy as np\n",
    "\n",
    "vectorizer = TfidfVectorizer(\"english\",ngram_range = ngram, max_features = maxf)\n",
    "\n",
    "lmtz_vectorizer = TfidfVectorizer(\"english\",ngram_range = ngram, max_features = maxf)\n",
    "\n",
    "X = vectorizer.fit_transform(paragraphs)\n",
    "lmtz_X = lmtz_vectorizer.fit_transform(df2['lmtzPara'])"
   ]
  },
  {
   "cell_type": "markdown",
   "metadata": {},
   "source": [
    "##### split class wise"
   ]
  },
  {
   "cell_type": "code",
   "execution_count": 15,
   "metadata": {},
   "outputs": [],
   "source": [
    "# split TfIdf-matrix class wise\n",
    "DataMatrix = X.toarray()\n",
    "lmtz_DataMatrix = lmtz_X.toarray()\n",
    "\n",
    "#non lemmatized\n",
    "X_fruit = DataMatrix[0:81,:] # first 81 are fruit in data\n",
    "X_company = DataMatrix[81:,:]\n",
    "\n",
    "#lemmatized\n",
    "lmtz_X_fruit = lmtz_DataMatrix[0:81,:]\n",
    "lmtz_X_company = lmtz_DataMatrix[81:,:]"
   ]
  },
  {
   "cell_type": "markdown",
   "metadata": {},
   "source": [
    "###### find avg"
   ]
  },
  {
   "cell_type": "code",
   "execution_count": 16,
   "metadata": {},
   "outputs": [],
   "source": [
    "#non lemmatized\n",
    "X_fruit_Avg = X_fruit.sum(axis=0)/X_fruit.shape[0]\n",
    "X_company_Avg = X_company.sum(axis=0)/X_company.shape[0]\n",
    "Data_Avg = DataMatrix.sum(axis=0)/DataMatrix.shape[0]\n",
    "\n",
    "#lemmatized\n",
    "lmtz_X_fruit_Avg = lmtz_X_fruit.sum(axis=0)/X_fruit.shape[0]\n",
    "lmtz_X_company_Avg = lmtz_X_company.sum(axis=0)/X_company.shape[0]\n",
    "lmtz_Data_Avg = lmtz_DataMatrix.sum(axis=0)/lmtz_DataMatrix.shape[0]"
   ]
  },
  {
   "cell_type": "markdown",
   "metadata": {},
   "source": [
    "##### find index for top k"
   ]
  },
  {
   "cell_type": "code",
   "execution_count": 17,
   "metadata": {},
   "outputs": [
    {
     "data": {
      "text/plain": [
       "(array([444, 294, 271, 396,  20, 150, 499, 380,  66,  43], dtype=int64),\n",
       " array([796, 271, 584, 735, 294,  23, 499, 376, 154,  43], dtype=int64))"
      ]
     },
     "execution_count": 17,
     "metadata": {},
     "output_type": "execute_result"
    }
   ],
   "source": [
    "k=-10\n",
    "\n",
    "topK_IndFruit = np.argsort(X_fruit_Avg)[k:]\n",
    "topK_IndCompany = np.argsort(X_company_Avg)[k:]\n",
    "topK_IndData = np.argsort(Data_Avg)[k:]\n",
    "\n",
    "lmtz_topK_IndFruit = np.argsort(lmtz_X_fruit_Avg)[k:]\n",
    "lmtz_topK_IndCompany = np.argsort(lmtz_X_company_Avg)[k:]\n",
    "lmtz_topK_IndData = np.argsort(lmtz_Data_Avg)[k:]\n",
    "topK_IndData,lmtz_topK_IndData"
   ]
  },
  {
   "cell_type": "markdown",
   "metadata": {},
   "source": [
    "##### put index for max first"
   ]
  },
  {
   "cell_type": "markdown",
   "metadata": {},
   "source": [
    "###### fruit"
   ]
  },
  {
   "cell_type": "code",
   "execution_count": 18,
   "metadata": {},
   "outputs": [
    {
     "data": {
      "text/plain": [
       "(array([ 66,  43, 294, 181, 732, 456, 733,  20, 584, 469], dtype=int64),\n",
       " array([ 43, 294, 735, 184, 762, 455, 223,  23, 647, 682], dtype=int64))"
      ]
     },
     "execution_count": 18,
     "metadata": {},
     "output_type": "execute_result"
    }
   ],
   "source": [
    "#put max first\n",
    "topK_IndFruit = topK_IndFruit[::-1]\n",
    "lmtz_topK_IndFruit = lmtz_topK_IndFruit[::-1]\n",
    "\n",
    "(topK_IndFruit, lmtz_topK_IndFruit)"
   ]
  },
  {
   "cell_type": "markdown",
   "metadata": {},
   "source": [
    "##### company"
   ]
  },
  {
   "cell_type": "code",
   "execution_count": 19,
   "metadata": {},
   "outputs": [
    {
     "data": {
      "text/plain": [
       "(array([ 66,  43, 294, 181, 732, 456, 733,  20, 584, 469], dtype=int64),\n",
       " array([ 43, 294, 735, 184, 762, 455, 223,  23, 647, 682], dtype=int64))"
      ]
     },
     "execution_count": 19,
     "metadata": {},
     "output_type": "execute_result"
    }
   ],
   "source": [
    "topK_IndCompany = topK_IndCompany[::-1]\n",
    "lmtz_topK_IndCompany = lmtz_topK_IndCompany[::-1]\n",
    "\n",
    "(topK_IndFruit, lmtz_topK_IndFruit)"
   ]
  },
  {
   "cell_type": "markdown",
   "metadata": {},
   "source": [
    "###### full data"
   ]
  },
  {
   "cell_type": "code",
   "execution_count": 20,
   "metadata": {},
   "outputs": [
    {
     "data": {
      "text/plain": [
       "(array([ 43,  66, 380, 499, 150,  20, 396, 271, 294, 444], dtype=int64),\n",
       " array([ 43, 154, 376, 499,  23, 294, 735, 584, 271, 796], dtype=int64))"
      ]
     },
     "execution_count": 20,
     "metadata": {},
     "output_type": "execute_result"
    }
   ],
   "source": [
    "topK_IndData = topK_IndData[::-1]\n",
    "lmtz_topK_IndData = lmtz_topK_IndData[::-1]\n",
    "\n",
    "(topK_IndData, lmtz_topK_IndData)"
   ]
  },
  {
   "cell_type": "markdown",
   "metadata": {},
   "source": [
    "##### get feature names"
   ]
  },
  {
   "cell_type": "code",
   "execution_count": 21,
   "metadata": {},
   "outputs": [],
   "source": [
    "featureNames = vectorizer.get_feature_names()\n",
    "lmtz_featureNames = lmtz_vectorizer.get_feature_names()\n",
    "#(featureNames[:10],lmtz_featureNames[:10])"
   ]
  },
  {
   "cell_type": "markdown",
   "metadata": {},
   "source": [
    "##### index to feature name"
   ]
  },
  {
   "cell_type": "code",
   "execution_count": 22,
   "metadata": {},
   "outputs": [],
   "source": [
    "indexToName ={i:featureNames[i] for i in range(len(featureNames))}\n",
    "lmtz_indexToName ={i:lmtz_featureNames[i] for i in range(len(lmtz_featureNames))}"
   ]
  },
  {
   "cell_type": "markdown",
   "metadata": {},
   "source": [
    "##### top k features names"
   ]
  },
  {
   "cell_type": "code",
   "execution_count": 23,
   "metadata": {},
   "outputs": [],
   "source": [
    "top_K_AvgTfIdf_fruit = [indexToName[i] for i in topK_IndFruit]\n",
    "top_K_AvgTfIdf_company = [indexToName[i] for i in topK_IndCompany]\n",
    "top_K_AvgTfIdf_Data    = [indexToName[i] for i in topK_IndData]\n",
    "\n",
    "lmtz_top_K_AvgTfIdf_fruit = [lmtz_indexToName[i] for i in lmtz_topK_IndFruit]\n",
    "lmtz_top_K_AvgTfIdf_company = [lmtz_indexToName[i] for i in lmtz_topK_IndCompany]\n",
    "lmtz_top_K_AvgTfIdf_Data    = [lmtz_indexToName[i] for i in lmtz_topK_IndData]"
   ]
  },
  {
   "cell_type": "markdown",
   "metadata": {},
   "source": [
    "##### make data frame"
   ]
  },
  {
   "cell_type": "markdown",
   "metadata": {},
   "source": [
    "### Compare lemmatized vs non lemmatized top K for same class"
   ]
  },
  {
   "cell_type": "code",
   "execution_count": 24,
   "metadata": {
    "scrolled": false
   },
   "outputs": [
    {
     "data": {
      "text/html": [
       "<div>\n",
       "<style scoped>\n",
       "    .dataframe tbody tr th:only-of-type {\n",
       "        vertical-align: middle;\n",
       "    }\n",
       "\n",
       "    .dataframe tbody tr th {\n",
       "        vertical-align: top;\n",
       "    }\n",
       "\n",
       "    .dataframe thead th {\n",
       "        text-align: right;\n",
       "    }\n",
       "</style>\n",
       "<table border=\"1\" class=\"dataframe\">\n",
       "  <thead>\n",
       "    <tr style=\"text-align: right;\">\n",
       "      <th></th>\n",
       "      <th>top_K_AvgTfIdf_company</th>\n",
       "      <th>lmtz_top_K_AvgIdf_company</th>\n",
       "    </tr>\n",
       "  </thead>\n",
       "  <tbody>\n",
       "    <tr>\n",
       "      <th>0</th>\n",
       "      <td>apple</td>\n",
       "      <td>apple</td>\n",
       "    </tr>\n",
       "    <tr>\n",
       "      <th>1</th>\n",
       "      <td>iphone</td>\n",
       "      <td>company</td>\n",
       "    </tr>\n",
       "    <tr>\n",
       "      <th>2</th>\n",
       "      <td>company</td>\n",
       "      <td>iphone</td>\n",
       "    </tr>\n",
       "    <tr>\n",
       "      <th>3</th>\n",
       "      <td>jobs</td>\n",
       "      <td>product</td>\n",
       "    </tr>\n",
       "    <tr>\n",
       "      <th>4</th>\n",
       "      <td>new</td>\n",
       "      <td>job</td>\n",
       "    </tr>\n",
       "    <tr>\n",
       "      <th>5</th>\n",
       "      <td>macintosh</td>\n",
       "      <td>computer</td>\n",
       "    </tr>\n",
       "    <tr>\n",
       "      <th>6</th>\n",
       "      <td>first</td>\n",
       "      <td>macintosh</td>\n",
       "    </tr>\n",
       "    <tr>\n",
       "      <th>7</th>\n",
       "      <td>ipad</td>\n",
       "      <td>new</td>\n",
       "    </tr>\n",
       "    <tr>\n",
       "      <th>8</th>\n",
       "      <td>introduced</td>\n",
       "      <td>first</td>\n",
       "    </tr>\n",
       "    <tr>\n",
       "      <th>9</th>\n",
       "      <td>products</td>\n",
       "      <td>store</td>\n",
       "    </tr>\n",
       "  </tbody>\n",
       "</table>\n",
       "</div>"
      ],
      "text/plain": [
       "  top_K_AvgTfIdf_company lmtz_top_K_AvgIdf_company\n",
       "0                  apple                     apple\n",
       "1                 iphone                   company\n",
       "2                company                    iphone\n",
       "3                   jobs                   product\n",
       "4                    new                       job\n",
       "5              macintosh                  computer\n",
       "6                  first                 macintosh\n",
       "7                   ipad                       new\n",
       "8             introduced                     first\n",
       "9               products                     store"
      ]
     },
     "execution_count": 24,
     "metadata": {},
     "output_type": "execute_result"
    }
   ],
   "source": [
    "dfTopk_cmpny = pd.DataFrame(columns=['top_K_AvgTfIdf_company', 'lmtz_top_K_AvgIdf_company'])\n",
    "dfTopk_cmpny['top_K_AvgTfIdf_company'] = top_K_AvgTfIdf_company\n",
    "dfTopk_cmpny['lmtz_top_K_AvgIdf_company']=lmtz_top_K_AvgTfIdf_company\n",
    "dfTopk_cmpny"
   ]
  },
  {
   "cell_type": "code",
   "execution_count": 25,
   "metadata": {
    "scrolled": false
   },
   "outputs": [
    {
     "data": {
      "text/html": [
       "<div>\n",
       "<style scoped>\n",
       "    .dataframe tbody tr th:only-of-type {\n",
       "        vertical-align: middle;\n",
       "    }\n",
       "\n",
       "    .dataframe tbody tr th {\n",
       "        vertical-align: top;\n",
       "    }\n",
       "\n",
       "    .dataframe thead th {\n",
       "        text-align: right;\n",
       "    }\n",
       "</style>\n",
       "<table border=\"1\" class=\"dataframe\">\n",
       "  <thead>\n",
       "    <tr style=\"text-align: right;\">\n",
       "      <th></th>\n",
       "      <th>top_K_AvgTfIdf_fruit</th>\n",
       "      <th>lmtz_top_K_AvgTfIdf_fruit</th>\n",
       "    </tr>\n",
       "  </thead>\n",
       "  <tbody>\n",
       "    <tr>\n",
       "      <th>0</th>\n",
       "      <td>apples</td>\n",
       "      <td>apple</td>\n",
       "    </tr>\n",
       "    <tr>\n",
       "      <th>1</th>\n",
       "      <td>apple</td>\n",
       "      <td>fruit</td>\n",
       "    </tr>\n",
       "    <tr>\n",
       "      <th>2</th>\n",
       "      <td>fruit</td>\n",
       "      <td>tree</td>\n",
       "    </tr>\n",
       "    <tr>\n",
       "      <th>3</th>\n",
       "      <td>cultivars</td>\n",
       "      <td>cultivar</td>\n",
       "    </tr>\n",
       "    <tr>\n",
       "      <th>4</th>\n",
       "      <td>tree</td>\n",
       "      <td>variety</td>\n",
       "    </tr>\n",
       "    <tr>\n",
       "      <th>5</th>\n",
       "      <td>malus</td>\n",
       "      <td>malus</td>\n",
       "    </tr>\n",
       "    <tr>\n",
       "      <th>6</th>\n",
       "      <td>trees</td>\n",
       "      <td>disease</td>\n",
       "    </tr>\n",
       "    <tr>\n",
       "      <th>7</th>\n",
       "      <td>also</td>\n",
       "      <td>also</td>\n",
       "    </tr>\n",
       "    <tr>\n",
       "      <th>8</th>\n",
       "      <td>production</td>\n",
       "      <td>seed</td>\n",
       "    </tr>\n",
       "    <tr>\n",
       "      <th>9</th>\n",
       "      <td>may</td>\n",
       "      <td>state</td>\n",
       "    </tr>\n",
       "  </tbody>\n",
       "</table>\n",
       "</div>"
      ],
      "text/plain": [
       "  top_K_AvgTfIdf_fruit lmtz_top_K_AvgTfIdf_fruit\n",
       "0               apples                     apple\n",
       "1                apple                     fruit\n",
       "2                fruit                      tree\n",
       "3            cultivars                  cultivar\n",
       "4                 tree                   variety\n",
       "5                malus                     malus\n",
       "6                trees                   disease\n",
       "7                 also                      also\n",
       "8           production                      seed\n",
       "9                  may                     state"
      ]
     },
     "execution_count": 25,
     "metadata": {},
     "output_type": "execute_result"
    }
   ],
   "source": [
    "(top_K_AvgTfIdf_fruit, lmtz_top_K_AvgTfIdf_fruit)\n",
    "dfTopk_frt = pd.DataFrame(columns=['top_K_AvgTfIdf_fruit', 'lmtz_top_K_AvgTfIdf_fruit'])\n",
    "\n",
    "dfTopk_frt['top_K_AvgTfIdf_fruit']=top_K_AvgTfIdf_fruit\n",
    "dfTopk_frt['lmtz_top_K_AvgTfIdf_fruit']=lmtz_top_K_AvgTfIdf_fruit\n",
    "dfTopk_frt"
   ]
  },
  {
   "cell_type": "code",
   "execution_count": 26,
   "metadata": {},
   "outputs": [
    {
     "data": {
      "text/html": [
       "<div>\n",
       "<style scoped>\n",
       "    .dataframe tbody tr th:only-of-type {\n",
       "        vertical-align: middle;\n",
       "    }\n",
       "\n",
       "    .dataframe tbody tr th {\n",
       "        vertical-align: top;\n",
       "    }\n",
       "\n",
       "    .dataframe thead th {\n",
       "        text-align: right;\n",
       "    }\n",
       "</style>\n",
       "<table border=\"1\" class=\"dataframe\">\n",
       "  <thead>\n",
       "    <tr style=\"text-align: right;\">\n",
       "      <th></th>\n",
       "      <th>top_K_AvgTfIdf_Data</th>\n",
       "      <th>lmtz_top_K_AvgTfIdf_Data</th>\n",
       "    </tr>\n",
       "  </thead>\n",
       "  <tbody>\n",
       "    <tr>\n",
       "      <th>0</th>\n",
       "      <td>apple</td>\n",
       "      <td>apple</td>\n",
       "    </tr>\n",
       "    <tr>\n",
       "      <th>1</th>\n",
       "      <td>apples</td>\n",
       "      <td>company</td>\n",
       "    </tr>\n",
       "    <tr>\n",
       "      <th>2</th>\n",
       "      <td>iphone</td>\n",
       "      <td>iphone</td>\n",
       "    </tr>\n",
       "    <tr>\n",
       "      <th>3</th>\n",
       "      <td>new</td>\n",
       "      <td>new</td>\n",
       "    </tr>\n",
       "    <tr>\n",
       "      <th>4</th>\n",
       "      <td>company</td>\n",
       "      <td>also</td>\n",
       "    </tr>\n",
       "    <tr>\n",
       "      <th>5</th>\n",
       "      <td>also</td>\n",
       "      <td>fruit</td>\n",
       "    </tr>\n",
       "    <tr>\n",
       "      <th>6</th>\n",
       "      <td>jobs</td>\n",
       "      <td>tree</td>\n",
       "    </tr>\n",
       "    <tr>\n",
       "      <th>7</th>\n",
       "      <td>first</td>\n",
       "      <td>product</td>\n",
       "    </tr>\n",
       "    <tr>\n",
       "      <th>8</th>\n",
       "      <td>fruit</td>\n",
       "      <td>first</td>\n",
       "    </tr>\n",
       "    <tr>\n",
       "      <th>9</th>\n",
       "      <td>macintosh</td>\n",
       "      <td>year</td>\n",
       "    </tr>\n",
       "  </tbody>\n",
       "</table>\n",
       "</div>"
      ],
      "text/plain": [
       "  top_K_AvgTfIdf_Data lmtz_top_K_AvgTfIdf_Data\n",
       "0               apple                    apple\n",
       "1              apples                  company\n",
       "2              iphone                   iphone\n",
       "3                 new                      new\n",
       "4             company                     also\n",
       "5                also                    fruit\n",
       "6                jobs                     tree\n",
       "7               first                  product\n",
       "8               fruit                    first\n",
       "9           macintosh                     year"
      ]
     },
     "execution_count": 26,
     "metadata": {},
     "output_type": "execute_result"
    }
   ],
   "source": [
    "(top_K_AvgTfIdf_Data, lmtz_top_K_AvgTfIdf_Data)\n",
    "dfTopk_data = pd.DataFrame(columns=['top_K_AvgTfIdf_Data', 'lmtz_top_K_AvgTfIdf_Data'])\n",
    "dfTopk_data['top_K_AvgTfIdf_Data'] = top_K_AvgTfIdf_Data\n",
    "dfTopk_data['lmtz_top_K_AvgTfIdf_Data']=lmtz_top_K_AvgTfIdf_Data\n",
    "dfTopk_data"
   ]
  },
  {
   "cell_type": "markdown",
   "metadata": {},
   "source": [
    "### top lemmatized and non lemmatized seem pretty much similar for both classes and over all data"
   ]
  },
  {
   "cell_type": "markdown",
   "metadata": {},
   "source": [
    "## Cmpare top words for classes and over all data"
   ]
  },
  {
   "cell_type": "markdown",
   "metadata": {},
   "source": [
    "### non lemmatized"
   ]
  },
  {
   "cell_type": "code",
   "execution_count": 27,
   "metadata": {},
   "outputs": [
    {
     "data": {
      "text/html": [
       "<div>\n",
       "<style scoped>\n",
       "    .dataframe tbody tr th:only-of-type {\n",
       "        vertical-align: middle;\n",
       "    }\n",
       "\n",
       "    .dataframe tbody tr th {\n",
       "        vertical-align: top;\n",
       "    }\n",
       "\n",
       "    .dataframe thead th {\n",
       "        text-align: right;\n",
       "    }\n",
       "</style>\n",
       "<table border=\"1\" class=\"dataframe\">\n",
       "  <thead>\n",
       "    <tr style=\"text-align: right;\">\n",
       "      <th></th>\n",
       "      <th>top_K_AvgTfIdf_Data</th>\n",
       "      <th>top_K_AvgTfIdf_fruit</th>\n",
       "      <th>top_K_AvgTfIdf_company</th>\n",
       "    </tr>\n",
       "  </thead>\n",
       "  <tbody>\n",
       "    <tr>\n",
       "      <th>0</th>\n",
       "      <td>apple</td>\n",
       "      <td>apples</td>\n",
       "      <td>apple</td>\n",
       "    </tr>\n",
       "    <tr>\n",
       "      <th>1</th>\n",
       "      <td>apples</td>\n",
       "      <td>apple</td>\n",
       "      <td>iphone</td>\n",
       "    </tr>\n",
       "    <tr>\n",
       "      <th>2</th>\n",
       "      <td>iphone</td>\n",
       "      <td>fruit</td>\n",
       "      <td>company</td>\n",
       "    </tr>\n",
       "    <tr>\n",
       "      <th>3</th>\n",
       "      <td>new</td>\n",
       "      <td>cultivars</td>\n",
       "      <td>jobs</td>\n",
       "    </tr>\n",
       "    <tr>\n",
       "      <th>4</th>\n",
       "      <td>company</td>\n",
       "      <td>tree</td>\n",
       "      <td>new</td>\n",
       "    </tr>\n",
       "    <tr>\n",
       "      <th>5</th>\n",
       "      <td>also</td>\n",
       "      <td>malus</td>\n",
       "      <td>macintosh</td>\n",
       "    </tr>\n",
       "    <tr>\n",
       "      <th>6</th>\n",
       "      <td>jobs</td>\n",
       "      <td>trees</td>\n",
       "      <td>first</td>\n",
       "    </tr>\n",
       "    <tr>\n",
       "      <th>7</th>\n",
       "      <td>first</td>\n",
       "      <td>also</td>\n",
       "      <td>ipad</td>\n",
       "    </tr>\n",
       "    <tr>\n",
       "      <th>8</th>\n",
       "      <td>fruit</td>\n",
       "      <td>production</td>\n",
       "      <td>introduced</td>\n",
       "    </tr>\n",
       "    <tr>\n",
       "      <th>9</th>\n",
       "      <td>macintosh</td>\n",
       "      <td>may</td>\n",
       "      <td>products</td>\n",
       "    </tr>\n",
       "  </tbody>\n",
       "</table>\n",
       "</div>"
      ],
      "text/plain": [
       "  top_K_AvgTfIdf_Data top_K_AvgTfIdf_fruit top_K_AvgTfIdf_company\n",
       "0               apple               apples                  apple\n",
       "1              apples                apple                 iphone\n",
       "2              iphone                fruit                company\n",
       "3                 new            cultivars                   jobs\n",
       "4             company                 tree                    new\n",
       "5                also                malus              macintosh\n",
       "6                jobs                trees                  first\n",
       "7               first                 also                   ipad\n",
       "8               fruit           production             introduced\n",
       "9           macintosh                  may               products"
      ]
     },
     "execution_count": 27,
     "metadata": {},
     "output_type": "execute_result"
    }
   ],
   "source": [
    "dfTopk_comparison = pd.DataFrame(columns=['top_K_AvgTfIdf_Data', 'top_K_AvgTfIdf_fruit','top_K_AvgTfIdf_company'])\n",
    "dfTopk_comparison['top_K_AvgTfIdf_Data']=top_K_AvgTfIdf_Data\n",
    "dfTopk_comparison['top_K_AvgTfIdf_fruit']=top_K_AvgTfIdf_fruit\n",
    "dfTopk_comparison['top_K_AvgTfIdf_company']=top_K_AvgTfIdf_company\n",
    "dfTopk_comparison"
   ]
  },
  {
   "cell_type": "markdown",
   "metadata": {},
   "source": [
    "### lemmatized"
   ]
  },
  {
   "cell_type": "code",
   "execution_count": 28,
   "metadata": {},
   "outputs": [
    {
     "data": {
      "text/html": [
       "<div>\n",
       "<style scoped>\n",
       "    .dataframe tbody tr th:only-of-type {\n",
       "        vertical-align: middle;\n",
       "    }\n",
       "\n",
       "    .dataframe tbody tr th {\n",
       "        vertical-align: top;\n",
       "    }\n",
       "\n",
       "    .dataframe thead th {\n",
       "        text-align: right;\n",
       "    }\n",
       "</style>\n",
       "<table border=\"1\" class=\"dataframe\">\n",
       "  <thead>\n",
       "    <tr style=\"text-align: right;\">\n",
       "      <th></th>\n",
       "      <th>lmtz_top_K_AvgTfIdf_Data</th>\n",
       "      <th>lmtz_top_K_AvgTfIdf_fruit</th>\n",
       "      <th>lmtz_top_K_AvgTfIdf_company</th>\n",
       "    </tr>\n",
       "  </thead>\n",
       "  <tbody>\n",
       "    <tr>\n",
       "      <th>0</th>\n",
       "      <td>apple</td>\n",
       "      <td>apple</td>\n",
       "      <td>apple</td>\n",
       "    </tr>\n",
       "    <tr>\n",
       "      <th>1</th>\n",
       "      <td>company</td>\n",
       "      <td>fruit</td>\n",
       "      <td>company</td>\n",
       "    </tr>\n",
       "    <tr>\n",
       "      <th>2</th>\n",
       "      <td>iphone</td>\n",
       "      <td>tree</td>\n",
       "      <td>iphone</td>\n",
       "    </tr>\n",
       "    <tr>\n",
       "      <th>3</th>\n",
       "      <td>new</td>\n",
       "      <td>cultivar</td>\n",
       "      <td>product</td>\n",
       "    </tr>\n",
       "    <tr>\n",
       "      <th>4</th>\n",
       "      <td>also</td>\n",
       "      <td>variety</td>\n",
       "      <td>job</td>\n",
       "    </tr>\n",
       "    <tr>\n",
       "      <th>5</th>\n",
       "      <td>fruit</td>\n",
       "      <td>malus</td>\n",
       "      <td>computer</td>\n",
       "    </tr>\n",
       "    <tr>\n",
       "      <th>6</th>\n",
       "      <td>tree</td>\n",
       "      <td>disease</td>\n",
       "      <td>macintosh</td>\n",
       "    </tr>\n",
       "    <tr>\n",
       "      <th>7</th>\n",
       "      <td>product</td>\n",
       "      <td>also</td>\n",
       "      <td>new</td>\n",
       "    </tr>\n",
       "    <tr>\n",
       "      <th>8</th>\n",
       "      <td>first</td>\n",
       "      <td>seed</td>\n",
       "      <td>first</td>\n",
       "    </tr>\n",
       "    <tr>\n",
       "      <th>9</th>\n",
       "      <td>year</td>\n",
       "      <td>state</td>\n",
       "      <td>store</td>\n",
       "    </tr>\n",
       "  </tbody>\n",
       "</table>\n",
       "</div>"
      ],
      "text/plain": [
       "  lmtz_top_K_AvgTfIdf_Data lmtz_top_K_AvgTfIdf_fruit  \\\n",
       "0                    apple                     apple   \n",
       "1                  company                     fruit   \n",
       "2                   iphone                      tree   \n",
       "3                      new                  cultivar   \n",
       "4                     also                   variety   \n",
       "5                    fruit                     malus   \n",
       "6                     tree                   disease   \n",
       "7                  product                      also   \n",
       "8                    first                      seed   \n",
       "9                     year                     state   \n",
       "\n",
       "  lmtz_top_K_AvgTfIdf_company  \n",
       "0                       apple  \n",
       "1                     company  \n",
       "2                      iphone  \n",
       "3                     product  \n",
       "4                         job  \n",
       "5                    computer  \n",
       "6                   macintosh  \n",
       "7                         new  \n",
       "8                       first  \n",
       "9                       store  "
      ]
     },
     "execution_count": 28,
     "metadata": {},
     "output_type": "execute_result"
    }
   ],
   "source": [
    "lmtz_dfTopk_comparison = pd.DataFrame(columns=['lmtz_top_K_AvgTfIdf_Data', 'lmtz_top_K_AvgTfIdf_fruit','lmtz_top_K_AvgTfIdf_company'])\n",
    "lmtz_dfTopk_comparison['lmtz_top_K_AvgTfIdf_Data']=lmtz_top_K_AvgTfIdf_Data\n",
    "lmtz_dfTopk_comparison['lmtz_top_K_AvgTfIdf_fruit']=lmtz_top_K_AvgTfIdf_fruit\n",
    "lmtz_dfTopk_comparison['lmtz_top_K_AvgTfIdf_company']=lmtz_top_K_AvgTfIdf_company\n",
    "lmtz_dfTopk_comparison"
   ]
  },
  {
   "cell_type": "markdown",
   "metadata": {},
   "source": [
    "## Top frequent words and ones with top Tf-IDF  are quite different across classes and overall data, so a linear model for classification may do well"
   ]
  },
  {
   "cell_type": "markdown",
   "metadata": {},
   "source": [
    "# 2 Model Building"
   ]
  },
  {
   "cell_type": "markdown",
   "metadata": {},
   "source": [
    "### 2.1 Fitting  Support Vector Machine (non lemmatized data)"
   ]
  },
  {
   "cell_type": "code",
   "execution_count": 48,
   "metadata": {},
   "outputs": [],
   "source": [
    "ngram = (1,1)\n",
    "maxf= 800"
   ]
  },
  {
   "cell_type": "code",
   "execution_count": 49,
   "metadata": {},
   "outputs": [],
   "source": [
    "from sklearn.svm import SVC\n",
    "from sklearn.svm import LinearSVC\n",
    "from sklearn.model_selection import GridSearchCV"
   ]
  },
  {
   "cell_type": "markdown",
   "metadata": {},
   "source": [
    "##### vectorizer for both lematize and non lematized"
   ]
  },
  {
   "cell_type": "code",
   "execution_count": 31,
   "metadata": {},
   "outputs": [],
   "source": [
    "vectorizer = TfidfVectorizer(\"english\",ngram_range = ngram, max_features = maxf)\n",
    "lmtz_vectorizer = TfidfVectorizer(\"english\",ngram_range = ngram, max_features = maxf)\n",
    "\n",
    "X = vectorizer.fit_transform(paragraphs)\n",
    "\n",
    "lmtz_X = lmtz_vectorizer.fit_transform(df2['lmtzPara'])"
   ]
  },
  {
   "cell_type": "code",
   "execution_count": 32,
   "metadata": {},
   "outputs": [],
   "source": [
    "X_train, X_test, Y_train, Y_test = train_test_split(X, label, stratify=label, test_size=.4)"
   ]
  },
  {
   "cell_type": "code",
   "execution_count": 33,
   "metadata": {},
   "outputs": [],
   "source": [
    "lmtz_X_train, lmtz_X_test, lmtz_Y_train, lmtz_Y_test = train_test_split(lmtz_X, label, stratify=label, test_size=.4)"
   ]
  },
  {
   "cell_type": "code",
   "execution_count": 34,
   "metadata": {},
   "outputs": [
    {
     "name": "stdout",
     "output_type": "stream",
     "text": [
      "number of features :  800\n"
     ]
    }
   ],
   "source": [
    "hyper_parameters = [{'kernel': ['linear'], 'gamma': [1e-3, 1e-4],'C': [1, 10, 100, 1000]}]\n",
    "\n",
    "print('number of features : ', len(vectorizer.get_feature_names()))\n",
    "#vectorizer.get_feature_names()"
   ]
  },
  {
   "cell_type": "markdown",
   "metadata": {},
   "source": [
    "### Train non lemmatized"
   ]
  },
  {
   "cell_type": "code",
   "execution_count": 35,
   "metadata": {},
   "outputs": [
    {
     "name": "stdout",
     "output_type": "stream",
     "text": [
      "best param :  {'kernel': 'linear', 'gamma': 0.001, 'C': 1}\n"
     ]
    },
    {
     "name": "stderr",
     "output_type": "stream",
     "text": [
      "g:\\anaconda3\\envs\\python35\\lib\\site-packages\\sklearn\\model_selection\\_search.py:841: DeprecationWarning: The default of the `iid` parameter will change from True to False in version 0.22 and will be removed in 0.24. This will change numeric results when test-set sizes are unequal.\n",
      "  DeprecationWarning)\n"
     ]
    }
   ],
   "source": [
    "classifier = GridSearchCV(SVC(), hyper_parameters, cv=5, scoring='f1')\n",
    "classifier.fit(X_train, Y_train)\n",
    "best_param = classifier.best_params_\n",
    "best_classifier = classifier.best_estimator_\n",
    "print('best param : ',best_param)"
   ]
  },
  {
   "cell_type": "markdown",
   "metadata": {},
   "source": [
    "### Train lemmatized"
   ]
  },
  {
   "cell_type": "code",
   "execution_count": 36,
   "metadata": {},
   "outputs": [
    {
     "name": "stdout",
     "output_type": "stream",
     "text": [
      "best param :  {'kernel': 'linear', 'gamma': 0.001, 'C': 1}\n"
     ]
    },
    {
     "name": "stderr",
     "output_type": "stream",
     "text": [
      "g:\\anaconda3\\envs\\python35\\lib\\site-packages\\sklearn\\model_selection\\_search.py:841: DeprecationWarning: The default of the `iid` parameter will change from True to False in version 0.22 and will be removed in 0.24. This will change numeric results when test-set sizes are unequal.\n",
      "  DeprecationWarning)\n"
     ]
    }
   ],
   "source": [
    "lmtz_classifier = GridSearchCV(SVC(), hyper_parameters, cv=5, scoring='f1')\n",
    "lmtz_classifier.fit(X_train, Y_train)\n",
    "lmtz_best_param = lmtz_classifier.best_params_\n",
    "lmtz_best_classifier = lmtz_classifier.best_estimator_\n",
    "print('best param : ',lmtz_best_param)"
   ]
  },
  {
   "cell_type": "markdown",
   "metadata": {},
   "source": [
    "### Predic non lemmatized"
   ]
  },
  {
   "cell_type": "code",
   "execution_count": 37,
   "metadata": {},
   "outputs": [
    {
     "name": "stdout",
     "output_type": "stream",
     "text": [
      "{'kernel': 'linear', 'gamma': 0.001, 'C': 1}\n",
      "Accuracy Score :  0.9647058823529412\n",
      "F1 Score :  0.9719626168224299\n",
      "Confusion Matrix : \n",
      " [[30  3]\n",
      " [ 0 52]]\n"
     ]
    }
   ],
   "source": [
    "predicted = classifier.predict(X_test)\n",
    "print (classifier.best_params_)\n",
    "print (\"Accuracy Score : \",accuracy_score(Y_test, predicted))\n",
    "print (\"F1 Score : \",f1_score(Y_test, predicted))\n",
    "print (\"Confusion Matrix : \\n\",confusion_matrix(Y_test, predicted))\n",
    "#print ('\\nClasification report:\\n', classification_report(Y_test, predicted))"
   ]
  },
  {
   "cell_type": "markdown",
   "metadata": {},
   "source": [
    "### predict lemmatized"
   ]
  },
  {
   "cell_type": "code",
   "execution_count": 38,
   "metadata": {},
   "outputs": [
    {
     "name": "stdout",
     "output_type": "stream",
     "text": [
      "{'kernel': 'linear', 'gamma': 0.001, 'C': 1}\n",
      "Accuracy Score :  0.6941176470588235\n",
      "F1 Score :  0.7868852459016394\n",
      "Confusion Matrix : \n",
      " [[11 22]\n",
      " [ 4 48]]\n"
     ]
    }
   ],
   "source": [
    "lmtz_predicted = lmtz_classifier.predict(lmtz_X_test)\n",
    "print (classifier.best_params_)\n",
    "print (\"Accuracy Score : \",accuracy_score(lmtz_Y_test, lmtz_predicted))\n",
    "print (\"F1 Score : \",f1_score(lmtz_Y_test, lmtz_predicted))\n",
    "print (\"Confusion Matrix : \\n\",confusion_matrix(lmtz_Y_test, lmtz_predicted))\n",
    "#print ('\\nClasification report:\\n', classification_report(lmtz_Y_test, lmtz_predicted))"
   ]
  },
  {
   "cell_type": "markdown",
   "metadata": {},
   "source": [
    "### Train lemmatized with rbf kernel as one of the hyper parameter"
   ]
  },
  {
   "cell_type": "code",
   "execution_count": 39,
   "metadata": {},
   "outputs": [],
   "source": [
    "hyper_parameters = [{'kernel': ['linear'], 'gamma': [1e-3, 1e-4],'C': [1, 10, 100, 1000]},\n",
    "                   {'kernel': ['rbf'], 'gamma': [1e-3, 1e-4],'C': [1, 10, 100, 1000]}]"
   ]
  },
  {
   "cell_type": "code",
   "execution_count": 40,
   "metadata": {},
   "outputs": [
    {
     "name": "stdout",
     "output_type": "stream",
     "text": [
      "best param :  {'kernel': 'linear', 'gamma': 0.001, 'C': 1}\n"
     ]
    },
    {
     "name": "stderr",
     "output_type": "stream",
     "text": [
      "g:\\anaconda3\\envs\\python35\\lib\\site-packages\\sklearn\\model_selection\\_search.py:841: DeprecationWarning: The default of the `iid` parameter will change from True to False in version 0.22 and will be removed in 0.24. This will change numeric results when test-set sizes are unequal.\n",
      "  DeprecationWarning)\n"
     ]
    }
   ],
   "source": [
    "lmtz_classifier = GridSearchCV(SVC(), hyper_parameters, cv=5, scoring='f1')\n",
    "lmtz_classifier.fit(X_train, Y_train)\n",
    "lmtz_best_param = lmtz_classifier.best_params_\n",
    "lmtz_best_classifier = lmtz_classifier.best_estimator_\n",
    "print('best param : ',lmtz_best_param)"
   ]
  },
  {
   "cell_type": "markdown",
   "metadata": {},
   "source": [
    "### Predict lemmatized with rbf kernel as hyper parameter"
   ]
  },
  {
   "cell_type": "code",
   "execution_count": 41,
   "metadata": {},
   "outputs": [
    {
     "name": "stdout",
     "output_type": "stream",
     "text": [
      "{'kernel': 'linear', 'gamma': 0.001, 'C': 1}\n",
      "Accuracy Score :  0.6941176470588235\n",
      "F1 Score :  0.7868852459016394\n",
      "Confusion Matrix : \n",
      " [[11 22]\n",
      " [ 4 48]]\n"
     ]
    }
   ],
   "source": [
    "lmtz_predicted = lmtz_classifier.predict(lmtz_X_test)\n",
    "print (classifier.best_params_)\n",
    "print (\"Accuracy Score : \",accuracy_score(lmtz_Y_test, lmtz_predicted))\n",
    "print (\"F1 Score : \",f1_score(lmtz_Y_test, lmtz_predicted))\n",
    "print (\"Confusion Matrix : \\n\",confusion_matrix(lmtz_Y_test, lmtz_predicted))"
   ]
  },
  {
   "cell_type": "markdown",
   "metadata": {},
   "source": [
    "### I ran above section of training several times and the difference reamains noticeable on all runs, so possibly linear kernel is best for both , but performance it much better without lemmatizing the data\n",
    "\n",
    "### Here I am optimzing for F1 score in grid search as we have class imbalance , with more instances of apple as a company"
   ]
  },
  {
   "cell_type": "markdown",
   "metadata": {},
   "source": [
    "## save, load and infer"
   ]
  },
  {
   "cell_type": "code",
   "execution_count": 42,
   "metadata": {},
   "outputs": [],
   "source": [
    "# Save vocabulary\n",
    "pickle.dump(vectorizer.vocabulary_,open(\"svmSem_Vocab.pkl\",\"wb\"))\n",
    "# save svm model\n",
    "pickle.dump(classifier,open(\"svmSem_Model.pkl\",\"wb\"))"
   ]
  },
  {
   "cell_type": "code",
   "execution_count": 43,
   "metadata": {},
   "outputs": [],
   "source": [
    "transformer = TfidfTransformer()\n",
    "loaded_vec = CountVectorizer(decode_error=\"replace\",vocabulary=pickle.load(open(\"svmSem_Vocab.pkl\", \"rb\")))"
   ]
  },
  {
   "cell_type": "code",
   "execution_count": 44,
   "metadata": {},
   "outputs": [],
   "source": [
    "loaded_model = pickle.load(open(\"svmSem_Model.pkl\", 'rb'))"
   ]
  },
  {
   "cell_type": "code",
   "execution_count": 45,
   "metadata": {},
   "outputs": [
    {
     "name": "stdout",
     "output_type": "stream",
     "text": [
      "[1 0]\n"
     ]
    }
   ],
   "source": [
    "comp = \"apple launches new iphone\"\n",
    "fruit = 'understanding genes behind characteristics allow scientists perform knowledgeable selective breeding decoding genome also provided proof malus sieversii wild ancestor domestic applean issue longdebated scientific community'\n",
    "testIDF = transformer.fit_transform(loaded_vec.fit_transform([comp, fruit]))\n",
    "predicted = loaded_model.predict(testIDF)\n",
    "print(predicted) # 1:company 0:fruit"
   ]
  },
  {
   "cell_type": "markdown",
   "metadata": {},
   "source": [
    "# Use POS-tags as features"
   ]
  },
  {
   "cell_type": "markdown",
   "metadata": {},
   "source": [
    "### Create train data with pos tags from raw data"
   ]
  },
  {
   "cell_type": "markdown",
   "metadata": {},
   "source": [
    "### using part of speech tagging may help improving accuracy further for the current model, as we can have many sentences where apple as a company performs some action but very few sentences will have apple as fruit performing some action"
   ]
  },
  {
   "cell_type": "code",
   "execution_count": 17,
   "metadata": {},
   "outputs": [],
   "source": [
    "import pandas as pd\n",
    "import os\n",
    "from nltk.corpus import stopwords\n",
    "from IPython.display import display\n",
    "\n",
    "from sklearn.feature_extraction.text import TfidfVectorizer,TfidfTransformer,CountVectorizer\n",
    "from sklearn.model_selection import train_test_split\n",
    "from sklearn.metrics import accuracy_score,f1_score,confusion_matrix,classification_report\n",
    "import pickle"
   ]
  },
  {
   "cell_type": "code",
   "execution_count": 40,
   "metadata": {},
   "outputs": [],
   "source": [
    "#sent = 'steve jobs founded apple'\n",
    "sent = 'apple is eaten by steve jobs'\n",
    "words = sent.split(' ')"
   ]
  },
  {
   "cell_type": "code",
   "execution_count": 41,
   "metadata": {},
   "outputs": [
    {
     "data": {
      "text/plain": [
       "(['apple', 'is', 'eaten', 'by', 'steve', 'jobs'],\n",
       " ['apple', 'is', 'eaten', 'by', 'steve', 'jobs'])"
      ]
     },
     "execution_count": 41,
     "metadata": {},
     "output_type": "execute_result"
    }
   ],
   "source": [
    "tokens = nltk.word_tokenize(sent)\n",
    "tagSent = nltk.pos_tag(tokens)\n",
    "tagSentW = nltk.pos_tag(words)\n",
    "(tokens,words)"
   ]
  },
  {
   "cell_type": "code",
   "execution_count": 42,
   "metadata": {},
   "outputs": [
    {
     "data": {
      "text/plain": [
       "([('apple', 'NN'),\n",
       "  ('is', 'VBZ'),\n",
       "  ('eaten', 'VBN'),\n",
       "  ('by', 'IN'),\n",
       "  ('steve', 'NN'),\n",
       "  ('jobs', 'NNS')],\n",
       " [('apple', 'NN'),\n",
       "  ('is', 'VBZ'),\n",
       "  ('eaten', 'VBN'),\n",
       "  ('by', 'IN'),\n",
       "  ('steve', 'NN'),\n",
       "  ('jobs', 'NNS')])"
      ]
     },
     "execution_count": 42,
     "metadata": {},
     "output_type": "execute_result"
    }
   ],
   "source": [
    "(tagSent,tagSentW)\n"
   ]
  },
  {
   "cell_type": "code",
   "execution_count": 43,
   "metadata": {},
   "outputs": [
    {
     "data": {
      "text/plain": [
       "['apple_NN', 'eaten_VBN', 'steve_NN', 'jobs_NNS']"
      ]
     },
     "execution_count": 43,
     "metadata": {},
     "output_type": "execute_result"
    }
   ],
   "source": [
    "stopList = list(stopwords.words('english')) # Stopwords\n",
    "tagged_sentence = [ word+'_'+tag for word,tag in tagSent if word not in stopList]\n",
    "tagged_sentence"
   ]
  },
  {
   "cell_type": "markdown",
   "metadata": {},
   "source": [
    "## Create pos-tagged data"
   ]
  },
  {
   "cell_type": "code",
   "execution_count": 63,
   "metadata": {},
   "outputs": [],
   "source": [
    "stopList = list(stopwords.words('english')) # Stopwords\n",
    "spclCharList  = ['#','^','!','(',')','`','~','%','/','\\\\' ,'{','}',']','[','.',',',':',';','\"','-','°','@']\n",
    "\n",
    "fruit_file = os.path.join(os.getcwd(),\"TrainData\\\\apple-fruit.txt\")\n",
    "company_file = os.path.join(os.getcwd(),\"TrainData\\\\apple-computers.txt\")\n",
    "trainDataText = open(os.path.join(os.getcwd(),\"TrainData\\\\TrainPosData.txt\"),'w')\n",
    "\n",
    "with open(fruit_file,'r',encoding=\"utf-8\") as input:\n",
    "    paragraphs = input.read().split(\"\\n\\n\")"
   ]
  },
  {
   "cell_type": "code",
   "execution_count": 64,
   "metadata": {},
   "outputs": [],
   "source": [
    "datum =''\n",
    "for para in paragraphs:\n",
    "    for ch in spclCharList:\n",
    "        para = para.replace(ch,'')\n",
    "    para = ''.join([i for i in para if not i.isdigit()])\n",
    "    para = para.lower().strip().split()\n",
    "    para = list(filter(lambda x: x != '', para))\n",
    "    para = nltk.pos_tag(para)\n",
    "    para = [ word+'_'+tag for word,tag in para if word not in stopList]\n",
    "    para = ' '.join(str(w) for w in para)\n",
    "    datum += para +'\\t'+'fruit'+'\\n'\n",
    "\n",
    "with open(company_file,'r',encoding=\"utf-8\") as input:\n",
    "    paragraphs = input.read().split(\"\\n\\n\")\n",
    "\n",
    "for para in paragraphs:\n",
    "    for ch in spclCharList:\n",
    "        para = para.replace(ch,'')\n",
    "    para = ''.join([i for i in para if not i.isdigit()])\n",
    "    para = para.lower().strip().split()\n",
    "    para = list(filter(lambda x: x != '', para))\n",
    "    para = nltk.pos_tag(para)\n",
    "    para = [ word+'_'+tag for word,tag in para if word not in stopList]\n",
    "    para = ' '.join(str(w) for w in para)\n",
    "    datum += para +'\\t'+'company'+'\\n'\n",
    "\n",
    "trainDataText.write(datum)\n",
    "trainDataText.close()"
   ]
  },
  {
   "cell_type": "code",
   "execution_count": 65,
   "metadata": {},
   "outputs": [],
   "source": [
    "paragraphs = []\n",
    "label = []\n",
    "trainDataText = open(os.path.join(os.getcwd(),\"TrainData\\\\TrainPosData.txt\"),'r')"
   ]
  },
  {
   "cell_type": "code",
   "execution_count": 66,
   "metadata": {},
   "outputs": [],
   "source": [
    "dfPos = pd.DataFrame(columns=['paragraph', 'label'])\n",
    "for line in trainDataText.readlines():\n",
    "    line = line.rstrip('\\n').split('\\t')\n",
    "    paragraphs.append(line[0])\n",
    "    l = 1 if line[1] == 'company' else 0\n",
    "    label.append(1 if line[1] == 'company' else 0)\n",
    "    dfPos = dfPos.append({'paragraph':line[0],'label' :l},ignore_index=True)"
   ]
  },
  {
   "cell_type": "code",
   "execution_count": 67,
   "metadata": {},
   "outputs": [],
   "source": [
    "#from nltk.stem.wordnet import WordNetLemmatizer\n",
    "#lmtzr = WordNetLemmatizer()\n",
    "#dfPosLmtz = pd.DataFrame(columns=['lmtzPara', 'label'])\n",
    "#dfPosLmtz['lmtzPara'] = dfPos['paragraph'].apply(lambda x: \" \".join([lmtzr.lemmatize(word) for word in x.split()]))\n",
    "#dfPosLmtz['label'] = dfPos['label']"
   ]
  },
  {
   "cell_type": "code",
   "execution_count": 251,
   "metadata": {},
   "outputs": [],
   "source": [
    "ngram = (1,3)\n",
    "maxf= 1200"
   ]
  },
  {
   "cell_type": "markdown",
   "metadata": {},
   "source": [
    "## Run below"
   ]
  },
  {
   "cell_type": "code",
   "execution_count": 289,
   "metadata": {},
   "outputs": [],
   "source": [
    "from sklearn.svm import SVC\n",
    "from sklearn.svm import LinearSVC\n",
    "from sklearn.model_selection import GridSearchCV"
   ]
  },
  {
   "cell_type": "code",
   "execution_count": 290,
   "metadata": {
    "scrolled": true
   },
   "outputs": [],
   "source": [
    "vectorizer = TfidfVectorizer(\"english\",ngram_range = ngram, max_features = maxf)\n",
    "X = vectorizer.fit_transform(paragraphs)\n",
    "#type(vectorizer.get_feature_names()[:11])\n",
    "#type(vectorizer.vocabulary_)\n",
    "#vectorizer.get_feature_names()[:11]\n",
    "#vectorizer.idf_"
   ]
  },
  {
   "cell_type": "code",
   "execution_count": 291,
   "metadata": {},
   "outputs": [],
   "source": [
    "X_train, X_test, Y_train, Y_test = train_test_split(X, label, stratify=label, test_size=.4)"
   ]
  },
  {
   "cell_type": "code",
   "execution_count": 292,
   "metadata": {},
   "outputs": [],
   "source": [
    "hyper_parameters = [{'kernel': ['linear'], 'gamma': [1e-3, 1e-4],'C': [1, 10, 100, 1000]}]"
   ]
  },
  {
   "cell_type": "markdown",
   "metadata": {},
   "source": [
    "### Train"
   ]
  },
  {
   "cell_type": "code",
   "execution_count": 293,
   "metadata": {},
   "outputs": [
    {
     "name": "stdout",
     "output_type": "stream",
     "text": [
      "best param :  {'kernel': 'linear', 'gamma': 0.001, 'C': 1}\n"
     ]
    },
    {
     "name": "stderr",
     "output_type": "stream",
     "text": [
      "g:\\anaconda3\\envs\\python35\\lib\\site-packages\\sklearn\\model_selection\\_search.py:841: DeprecationWarning: The default of the `iid` parameter will change from True to False in version 0.22 and will be removed in 0.24. This will change numeric results when test-set sizes are unequal.\n",
      "  DeprecationWarning)\n"
     ]
    }
   ],
   "source": [
    "classifier = GridSearchCV(SVC(), hyper_parameters, cv=5, scoring='f1')\n",
    "classifier.fit(X_train, Y_train)\n",
    "best_param = classifier.best_params_\n",
    "best_classifier = classifier.best_estimator_\n",
    "print('best param : ',best_param)"
   ]
  },
  {
   "cell_type": "markdown",
   "metadata": {},
   "source": [
    "### Predict"
   ]
  },
  {
   "cell_type": "code",
   "execution_count": 294,
   "metadata": {},
   "outputs": [
    {
     "name": "stdout",
     "output_type": "stream",
     "text": [
      "{'kernel': 'linear', 'gamma': 0.001, 'C': 1}\n",
      "Accuracy Score :  0.9647058823529412\n",
      "F1 Score :  0.9714285714285713\n",
      "Confusion Matrix : \n",
      " [[31  2]\n",
      " [ 1 51]]\n"
     ]
    }
   ],
   "source": [
    "predicted = classifier.predict(X_test)\n",
    "print (classifier.best_params_)\n",
    "print (\"Accuracy Score : \",accuracy_score(Y_test, predicted))\n",
    "print (\"F1 Score : \",f1_score(Y_test, predicted))\n",
    "print (\"Confusion Matrix : \\n\",confusion_matrix(Y_test, predicted))"
   ]
  },
  {
   "cell_type": "code",
   "execution_count": 295,
   "metadata": {},
   "outputs": [
    {
     "name": "stdout",
     "output_type": "stream",
     "text": [
      "\n",
      "Clasification report:\n",
      "               precision    recall  f1-score   support\n",
      "\n",
      "           0       0.97      0.94      0.95        33\n",
      "           1       0.96      0.98      0.97        52\n",
      "\n",
      "   micro avg       0.96      0.96      0.96        85\n",
      "   macro avg       0.97      0.96      0.96        85\n",
      "weighted avg       0.96      0.96      0.96        85\n",
      "\n"
     ]
    }
   ],
   "source": [
    "print ('\\nClasification report:\\n', classification_report(Y_test, predicted))"
   ]
  },
  {
   "cell_type": "code",
   "execution_count": null,
   "metadata": {},
   "outputs": [],
   "source": []
  }
 ],
 "metadata": {
  "kernelspec": {
   "display_name": "Python 3",
   "language": "python",
   "name": "python3"
  },
  "language_info": {
   "codemirror_mode": {
    "name": "ipython",
    "version": 3
   },
   "file_extension": ".py",
   "mimetype": "text/x-python",
   "name": "python",
   "nbconvert_exporter": "python",
   "pygments_lexer": "ipython3",
   "version": "3.5.6"
  }
 },
 "nbformat": 4,
 "nbformat_minor": 2
}
